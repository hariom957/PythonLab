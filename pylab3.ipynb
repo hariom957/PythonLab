{
 "cells": [
  {
   "cell_type": "markdown",
   "metadata": {},
   "source": [
    "# lab3\n"
   ]
  },
  {
   "cell_type": "markdown",
   "metadata": {},
   "source": [
    "# Q1:Square\n"
   ]
  },
  {
   "cell_type": "code",
   "execution_count": null,
   "metadata": {},
   "outputs": [],
   "source": [
    "n=int(input(\"enter the number\"))\n",
    "i=1\n",
    "while i<n+1:\n",
    "    print(i,i*i)\n",
    "    i+=1\n"
   ]
  },
  {
   "cell_type": "markdown",
   "metadata": {},
   "source": [
    "# Q2:Sum of digit\n"
   ]
  },
  {
   "cell_type": "code",
   "execution_count": null,
   "metadata": {},
   "outputs": [],
   "source": [
    "n=int(input(\"enter number: \"))\n",
    "i=1\n",
    "sum1=0\n",
    "while i<=n:\n",
    "    sum1=sum1+i\n",
    "    i+=1\n",
    "print(\"num: \",n,\" sum \",sum1)"
   ]
  },
  {
   "cell_type": "markdown",
   "metadata": {},
   "source": [
    "# Q3:Fibbonacci Series"
   ]
  },
  {
   "cell_type": "code",
   "execution_count": null,
   "metadata": {},
   "outputs": [],
   "source": [
    "def fibonacci_while(n):\n",
    "    num1, num2 = 0, 1\n",
    "    count = 0\n",
    "    while count < n:\n",
    "        print(num1, end=\" \")\n",
    "        num1, num2 = num2, num1 + num2\n",
    "        count += 1\n",
    "    print()\n",
    "n_terms = 10\n",
    "fibonacci_while(n_terms)\n"
   ]
  },
  {
   "cell_type": "markdown",
   "metadata": {},
   "source": [
    "# Q4:Table"
   ]
  },
  {
   "cell_type": "code",
   "execution_count": null,
   "metadata": {},
   "outputs": [],
   "source": [
    "n=int(input(\"enter the test: \"))\n",
    "l=int(input(\"enter limit: \"))\n",
    "i=1\n",
    "while i<=l:\n",
    "    print(n*i)\n",
    "    i=i+1"
   ]
  },
  {
   "cell_type": "markdown",
   "metadata": {},
   "source": [
    "# Q5:Alpha numeric"
   ]
  },
  {
   "cell_type": "code",
   "execution_count": null,
   "metadata": {},
   "outputs": [],
   "source": [
    "st=input(\"enter data\")\n",
    "print(st.isalnum())"
   ]
  },
  {
   "cell_type": "markdown",
   "metadata": {},
   "source": [
    "# Q6: Character occurance\n"
   ]
  },
  {
   "cell_type": "code",
   "execution_count": null,
   "metadata": {},
   "outputs": [],
   "source": [
    "s=input(\"enter a string\")\n",
    "c=input(\"enter the character \")\n",
    "count=0\n",
    "for i in range(0,len(s)):\n",
    "    if s[i]==c:\n",
    "        count+=1\n",
    "    i=i+1\n",
    "print(\"occurance of \", c, \"is\", count)"
   ]
  }
 ],
 "metadata": {
  "kernelspec": {
   "display_name": "base",
   "language": "python",
   "name": "python3"
  },
  "language_info": {
   "name": "python",
   "version": "3.12.4"
  }
 },
 "nbformat": 4,
 "nbformat_minor": 2
}
