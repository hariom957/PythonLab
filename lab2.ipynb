{
 "cells": [
  {
   "cell_type": "code",
   "execution_count": null,
   "metadata": {},
   "outputs": [
    {
     "name": "stdout",
     "output_type": "stream",
     "text": [
      "case 1 mAHA bHARAT\n"
     ]
    }
   ],
   "source": [
    "S1=\"Maha Bharat\"\n",
    "print(\"case 1=>\", S1.swapcase())\n"
   ]
  },
  {
   "cell_type": "code",
   "execution_count": null,
   "metadata": {},
   "outputs": [
    {
     "name": "stdout",
     "output_type": "stream",
     "text": [
      "case 2=> Bharat\n"
     ]
    }
   ],
   "source": [
    "S1=\"Maha Bharat\"\n",
    "print(\"case 2=>\", S1[5:])\n"
   ]
  },
  {
   "cell_type": "code",
   "execution_count": null,
   "metadata": {},
   "outputs": [
    {
     "name": "stdout",
     "output_type": "stream",
     "text": [
      "case 2=> BharatBharatBharat\n"
     ]
    }
   ],
   "source": [
    "S1=\"Maha Bharat\"\n",
    "s2=S1[5:]\n",
    "print(\"case 3=>\", s2*3)\n"
   ]
  },
  {
   "cell_type": "code",
   "execution_count": null,
   "metadata": {},
   "outputs": [
    {
     "name": "stdout",
     "output_type": "stream",
     "text": [
      "case 3=> Mera Bharat\n"
     ]
    }
   ],
   "source": [
    "S1=\"Maha Bharat\"\n",
    "print(\"case 4=>\", S1.replace(\"Maha\",\"Mera\"))"
   ]
  },
  {
   "cell_type": "code",
   "execution_count": null,
   "metadata": {},
   "outputs": [
    {
     "name": "stdout",
     "output_type": "stream",
     "text": [
      "case 5=> Mera Bharat Mahan\n"
     ]
    }
   ],
   "source": [
    "S1=\"Maha Bharat\"\n",
    "print(\"case 5=>\", S1.replace(\"Maha\",\"Mera\") ,\"Mahan\")"
   ]
  },
  {
   "cell_type": "markdown",
   "metadata": {},
   "source": [
    "# Q2:Practice\n"
   ]
  },
  {
   "cell_type": "code",
   "execution_count": null,
   "metadata": {},
   "outputs": [
    {
     "name": "stdout",
     "output_type": "stream",
     "text": [
      "lenght=> 17\n",
      "index of e=> 14\n",
      "total a=> 3\n",
      "replaced=> Ta Ta Black Sheep\n"
     ]
    }
   ],
   "source": [
    "S=\"Ba Ba Black Sheep\"\n",
    "print(\"lenght=>\", len(S))\n",
    "print(\"index of e=>\", S.index(\"e\"))\n",
    "i=0\n",
    "c=0\n",
    "while(i<len(S)):\n",
    "    if(S[i]=='a'):\n",
    "        c+=1\n",
    "    i+=1\n",
    "print(\"total a=>\", c)\n",
    "print(\"replaced=>\", S.replace(\"Ba Ba\",\"Ta Ta\"))"
   ]
  },
  {
   "cell_type": "markdown",
   "metadata": {},
   "source": [
    "# Q3:palindrome\n"
   ]
  },
  {
   "cell_type": "code",
   "execution_count": null,
   "metadata": {},
   "outputs": [
    {
     "name": "stdout",
     "output_type": "stream",
     "text": [
      "is a palindrome\n"
     ]
    }
   ],
   "source": [
    "S=input(\"Enter a string=>\")\n",
    "S1=S[::-1]\n",
    "if(S==S1):\n",
    "    print(\"is a palindrome\")\n",
    "else:\n",
    "    print(\"not a palindrome\")"
   ]
  },
  {
   "cell_type": "markdown",
   "metadata": {},
   "source": [
    "# Q3 Spreadsheet"
   ]
  },
  {
   "cell_type": "code",
   "execution_count": null,
   "metadata": {},
   "outputs": [
    {
     "name": "stdout",
     "output_type": "stream",
     "text": [
      "Name=> ram\n",
      "roll no=> 23\n",
      "marks=> 57\n",
      "grade pt.=> 6\n",
      "remark=> pass\n"
     ]
    }
   ],
   "source": [
    "name=input(\"enter name \")\n",
    "rol=int(input(\"enter roll no \"))\n",
    "marks=int(input(\"enter marks\"))\n",
    "gp=0\n",
    "remark=\"null\"\n",
    "if(marks<50):\n",
    "    gp=0\n",
    "    remark=\"fail\"\n",
    "elif(marks>=50 and marks<60):\n",
    "    gp=6\n",
    "    remark=\"pass\"\n",
    "elif(marks>=60 and marks<70):\n",
    "    gp=7\n",
    "    remark=\"Average\"\n",
    "elif(marks>=70 and marks<80):\n",
    "    gp=8\n",
    "    remark=\"Good\"\n",
    "elif(marks>=80 and marks<90):\n",
    "    gp=9\n",
    "    remark=\"Very Good\"\n",
    "elif(marks>=90):\n",
    "    gp=10\n",
    "    remark=\"out standing\"\n",
    "else:\n",
    "    print(\"enter a valid input\")\n",
    "print(\"Name=>\", name)\n",
    "print(\"roll no=>\", rol)\n",
    "print(\"marks=>\", marks)\n",
    "print(\"grade pt.=>\", gp)\n",
    "print(\"remark=>\", remark)"
   ]
  },
  {
   "cell_type": "markdown",
   "metadata": {},
   "source": [
    "# Q5:Quadratic"
   ]
  },
  {
   "cell_type": "code",
   "execution_count": null,
   "metadata": {},
   "outputs": [
    {
     "name": "stdout",
     "output_type": "stream",
     "text": [
      "root 1=> -0.5\n",
      "root 2=> 0.8660254037844386\n"
     ]
    }
   ],
   "source": [
    "import math as ma\n",
    "a=int(input(\"enter a=>\"))\n",
    "b=int(input(\"enter b=>\"))\n",
    "c=int(input(\"enter c=>\"))\n",
    "d=b**2-(4*a*c)\n",
    "r1=0\n",
    "r2=0\n",
    "if(d==0):\n",
    "    r1=-b/(2*a)\n",
    "    r2=r1\n",
    "elif(d>0):\n",
    "    r1=(-b+ma.sqrt(d))/(2*a)\n",
    "    r2=(-b-ma.sqrt(d))/(2*a)\n",
    "else:\n",
    "    r1=-b/(2*a)\n",
    "    r2=ma.sqrt(-d)/(2*a)\n",
    "print(\"root 1=>\", r1)\n",
    "print(\"root 2=>\", r2)\n"
   ]
  },
  {
   "cell_type": "markdown",
   "metadata": {},
   "source": [
    "# lab 3\n"
   ]
  }
 ],
 "metadata": {
  "kernelspec": {
   "display_name": "Python 3",
   "language": "python",
   "name": "python3"
  },
  "language_info": {
   "codemirror_mode": {
    "name": "ipython",
    "version": 3
   },
   "file_extension": ".py",
   "mimetype": "text/x-python",
   "name": "python",
   "nbconvert_exporter": "python",
   "pygments_lexer": "ipython3",
   "version": "3.12.4"
  }
 },
 "nbformat": 4,
 "nbformat_minor": 2
}
